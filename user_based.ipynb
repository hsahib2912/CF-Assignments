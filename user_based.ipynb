{
 "cells": [
  {
   "cell_type": "code",
   "execution_count": 34,
   "metadata": {},
   "outputs": [],
   "source": [
    "from split_data_user import split_data\n",
    "import numpy as np"
   ]
  },
  {
   "cell_type": "code",
   "execution_count": 31,
   "metadata": {},
   "outputs": [],
   "source": [
    "def sorted_mae(train,test,selec):\n",
    "    total_sum = 0\n",
    "    for i in test:\n",
    "        mae = []\n",
    "        for j in train:\n",
    "            err = abs(np.subtract(i,j).mean())\n",
    "            mae.append(err)\n",
    "            \n",
    "        mae.sort()\n",
    "        new_mae = mae[:int(len(mae)*selec)]\n",
    "        total_sum+=sum(new_mae)/(len(mae)*selec)\n",
    "    return total_sum\n",
    "        "
   ]
  },
  {
   "cell_type": "code",
   "execution_count": 32,
   "metadata": {},
   "outputs": [
    {
     "name": "stdout",
     "output_type": "stream",
     "text": [
      "fold =  0 tau =  0.4 mae =  13.608442724287551\n",
      "fold =  0 tau =  0.5 mae =  16.349434211873287\n",
      "fold =  0 tau =  0.6 mae =  19.25705889918708\n",
      "fold =  0 tau =  0.7 mae =  22.42062598361865\n",
      "fold =  1 tau =  0.4 mae =  17.511602803281434\n",
      "fold =  1 tau =  0.5 mae =  20.845155602935748\n",
      "fold =  1 tau =  0.6 mae =  23.85838613666733\n",
      "fold =  1 tau =  0.7 mae =  26.96413984146158\n",
      "fold =  2 tau =  0.4 mae =  17.488152703734904\n",
      "fold =  2 tau =  0.5 mae =  20.575162019355705\n",
      "fold =  2 tau =  0.6 mae =  23.58309381504725\n",
      "fold =  2 tau =  0.7 mae =  26.59094626503341\n",
      "fold =  3 tau =  0.4 mae =  12.326229983883024\n",
      "fold =  3 tau =  0.5 mae =  15.050479882166298\n",
      "fold =  3 tau =  0.6 mae =  17.733987894921107\n",
      "fold =  3 tau =  0.7 mae =  20.88896250741755\n",
      "fold =  4 tau =  0.4 mae =  13.357899762503267\n",
      "fold =  4 tau =  0.5 mae =  16.262191025588457\n",
      "fold =  4 tau =  0.6 mae =  19.033781780563103\n",
      "fold =  4 tau =  0.7 mae =  22.16308897138369\n"
     ]
    }
   ],
   "source": [
    "tau = [.4,.5,.6,.7]\n",
    "for i in range(5):\n",
    "    train,test = split_data(i)\n",
    "    for t in tau:\n",
    "        print(\"fold = \",i,\"tau = \",t,\"mae = \",sorted_mae(train,test,t))    "
   ]
  },
  {
   "cell_type": "code",
   "execution_count": null,
   "metadata": {},
   "outputs": [],
   "source": []
  }
 ],
 "metadata": {
  "kernelspec": {
   "display_name": "Python 3.7.4 64-bit",
   "language": "python",
   "name": "python37464bit4f94592289a247a196ff0f0b78332cbf"
  },
  "language_info": {
   "codemirror_mode": {
    "name": "ipython",
    "version": 3
   },
   "file_extension": ".py",
   "mimetype": "text/x-python",
   "name": "python",
   "nbconvert_exporter": "python",
   "pygments_lexer": "ipython3",
   "version": "3.7.4"
  }
 },
 "nbformat": 4,
 "nbformat_minor": 4
}
