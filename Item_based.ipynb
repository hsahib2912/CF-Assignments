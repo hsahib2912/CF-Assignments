{
 "cells": [
  {
   "cell_type": "code",
   "execution_count": 6,
   "metadata": {},
   "outputs": [],
   "source": [
    "from split_data_item import split_data\n",
    "import numpy as np"
   ]
  },
  {
   "cell_type": "code",
   "execution_count": 7,
   "metadata": {},
   "outputs": [],
   "source": [
    "def sorted_mae(train,test,k):\n",
    "    total_sum = 0\n",
    "    for i in test:\n",
    "        mae = []\n",
    "        for j in train:\n",
    "            err = abs(np.subtract(i,j).mean())\n",
    "            mae.append(err)  \n",
    "        mae.sort()\n",
    "        new_mae = mae[:k]\n",
    "        total_sum+=sum(new_mae)/k\n",
    "    return total_sum"
   ]
  },
  {
   "cell_type": "code",
   "execution_count": 8,
   "metadata": {},
   "outputs": [
    {
     "name": "stdout",
     "output_type": "stream",
     "text": [
      "fold =  0 K =  10 mae =  23.370837751855785\n",
      "fold =  0 K =  20 mae =  32.220890774125124\n",
      "fold =  0 K =  30 mae =  39.10650406504069\n",
      "fold =  0 K =  40 mae =  44.76166489925768\n",
      "fold =  1 K =  10 mae =  1.3428419936373261\n",
      "fold =  1 K =  20 mae =  2.6401378579003163\n",
      "fold =  1 K =  30 mae =  3.9799929303640837\n",
      "fold =  1 K =  40 mae =  5.288016967126188\n",
      "fold =  2 K =  10 mae =  0.5524920466595964\n",
      "fold =  2 K =  20 mae =  1.0927889713679748\n",
      "fold =  2 K =  30 mae =  1.6447154471544714\n",
      "fold =  2 K =  40 mae =  2.198144220572641\n",
      "fold =  3 K =  10 mae =  0.24008483563096483\n",
      "fold =  3 K =  20 mae =  0.4861611876988335\n",
      "fold =  3 K =  30 mae =  0.7257688229056205\n",
      "fold =  3 K =  40 mae =  0.9570519618239663\n",
      "fold =  4 K =  10 mae =  0.07529162248144221\n",
      "fold =  4 K =  20 mae =  0.2278366914103921\n",
      "fold =  4 K =  30 mae =  0.3608695652173914\n",
      "fold =  4 K =  40 mae =  0.4861876988335099\n"
     ]
    }
   ],
   "source": [
    "k_val = [10,20,30,40]\n",
    "for i in range(5):\n",
    "    train,test = split_data(i)\n",
    "    for k in k_val:\n",
    "        print(\"fold = \",i,\"K = \",k,\"mae = \",sorted_mae(train,test,k))"
   ]
  },
  {
   "cell_type": "code",
   "execution_count": null,
   "metadata": {},
   "outputs": [],
   "source": []
  }
 ],
 "metadata": {
  "kernelspec": {
   "display_name": "Python 3.7.4 64-bit",
   "language": "python",
   "name": "python37464bit4f94592289a247a196ff0f0b78332cbf"
  },
  "language_info": {
   "codemirror_mode": {
    "name": "ipython",
    "version": 3
   },
   "file_extension": ".py",
   "mimetype": "text/x-python",
   "name": "python",
   "nbconvert_exporter": "python",
   "pygments_lexer": "ipython3",
   "version": "3.7.4"
  }
 },
 "nbformat": 4,
 "nbformat_minor": 4
}
